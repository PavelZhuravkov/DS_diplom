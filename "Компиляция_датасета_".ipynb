{
  "cells": [
    {
      "cell_type": "markdown",
      "metadata": {
        "id": "view-in-github",
        "colab_type": "text"
      },
      "source": [
        "<a href=\"https://colab.research.google.com/github/PavelZhuravkov/DS_diplom/blob/master/%22%D0%9A%D0%BE%D0%BC%D0%BF%D0%B8%D0%BB%D1%8F%D1%86%D0%B8%D1%8F_%D0%B4%D0%B0%D1%82%D0%B0%D1%81%D0%B5%D1%82%D0%B0_%22.ipynb\" target=\"_parent\"><img src=\"https://colab.research.google.com/assets/colab-badge.svg\" alt=\"Open In Colab\"/></a>"
      ]
    },
    {
      "cell_type": "markdown",
      "metadata": {
        "id": "XtowN2VrwiLX"
      },
      "source": [
        "#<center>ОПРЕДЕЛЕНИЕ УЯЗВИМЫХ ГРУПП НАСЕЛЕНИЯ </center>"
      ]
    },
    {
      "cell_type": "markdown",
      "metadata": {
        "id": "lOFHOYuTxXwl"
      },
      "source": [
        "![ 'fjf'](https://nacto.org/wp-content/uploads/2016/04/Universal-Design-02.jpg)"
      ]
    },
    {
      "cell_type": "code",
      "execution_count": null,
      "metadata": {
        "id": "cYbih5YHy95N"
      },
      "outputs": [],
      "source": [
        "import numpy as np\n",
        "import pandas as pd\n",
        "import pickle as pkl\n",
        "import re"
      ]
    },
    {
      "cell_type": "markdown",
      "metadata": {
        "id": "yYgmN7ts7FE0"
      },
      "source": [
        "##Данные для исследованй взяты из открытых источников. Основным поставщиком сведений является государственное статистическое ведомство \" РОССТАТ\".\n",
        "##Выборки будем делать исходя из самой свежей и полной информации,на сегодняшний день, а именно за 2022 год."
      ]
    },
    {
      "cell_type": "markdown",
      "metadata": {
        "id": "39Qz9G999XsW"
      },
      "source": [
        "Не всегда один и тот же регион пишется одинаково в разных датасетах.\n",
        "Такое очень часто происходит с написаниями регионов РФ в разных\n",
        "документах. Это\n",
        "необходимо учитывать при объединении датасетов.\n",
        "\n",
        "Особенностью Тюменской области является то, что в её состав входят\n",
        "два других субъекта Российской Федерации: Ханты-Мансийский\n",
        "автономный округ — Югра и Ямало-Ненецкий автономный округ. При\n",
        "этом чаще всего в датасетах указывается отдельно Тюменская область\n",
        "и отдельно — без учёта автономных округов.\n",
        "То же самое касается Архангельской области — в её состав входит\n",
        "самостоятельный субъект Ненецкий автономный округ. Способы\n",
        "написания такие же, как с Тюменской областью."
      ]
    },
    {
      "cell_type": "code",
      "execution_count": null,
      "metadata": {
        "id": "vRb9HQQFu6i2"
      },
      "outputs": [],
      "source": [
        "import warnings\n",
        "warnings.filterwarnings(\"ignore\")"
      ]
    },
    {
      "cell_type": "code",
      "source": [
        "# Десериализуем pipeline из файла\n",
        "with open('/content/data/regions_rf.pkl', 'rb') as pkl_file:\n",
        "    regions_rf = pkl.load(pkl_file)"
      ],
      "metadata": {
        "id": "jKJRgxOLM5BX"
      },
      "execution_count": null,
      "outputs": []
    },
    {
      "cell_type": "code",
      "execution_count": null,
      "metadata": {
        "id": "Mb-qvwGB-5Mx"
      },
      "outputs": [],
      "source": [
        "def get_region(arg):\n",
        "  \"\"\" Функция для получения стандартных названий регионов РФ \"\"\"\n",
        "  for key, value in regions_rf.items():\n",
        "    if re.search(key, arg):\n",
        "        return value"
      ]
    },
    {
      "cell_type": "code",
      "execution_count": null,
      "metadata": {
        "id": "kO5btZ7oGBJR"
      },
      "outputs": [],
      "source": [
        "double_region = ['Архангельская область', 'Тюменская область'] # Список дублированных областей с учетом автономных округов"
      ]
    },
    {
      "cell_type": "code",
      "execution_count": null,
      "metadata": {
        "id": "1NWFrcCYEMKH"
      },
      "outputs": [],
      "source": [
        "def get_data(df):\n",
        "  \"\"\" Функция для получения датасета \"\"\"\n",
        "  df = df.dropna(inplace = False).reset_index(drop = True) # Убираем значения nan\n",
        "  df['region'] = df['region'].apply(lambda x: x.strip()) # Убираем лишние пробелы\n",
        "  df = df[df['region'].isin (double_region) == False ] # Убираем дублтрованные области\n",
        "  df['region'] = df['region'].apply(lambda x: x.lower()) # Переходим в нижний регистр\n",
        "  df['region'] = df['region'].apply(lambda x: re.sub(r\"\\(.*\\)\", \"\", x)) # Убираем то, что в скобках\n",
        "  df['region'] = df['region'].apply(get_region) # Запускаем функцию стандартных названий регионов\n",
        "  df = df.dropna(inplace = False).reset_index(drop = True) # Избавляемся от значений None\n",
        "  df = df.sort_values('region').reset_index(drop =True) # Сортируем по алфавиту датасет\n",
        "  return df"
      ]
    },
    {
      "cell_type": "markdown",
      "metadata": {
        "id": "VS-PuC5jARnm"
      },
      "source": [
        "#1.  Подготовка данных к объединению сводного DataFrame."
      ]
    },
    {
      "cell_type": "markdown",
      "metadata": {
        "id": "aMsBMyfdAqbj"
      },
      "source": [
        "##1.0 Среднедушевые денежные доходы населения по субъектам Российской федерации, руб./месяц"
      ]
    },
    {
      "cell_type": "markdown",
      "metadata": {
        "id": "AGb9M5TEIGXE"
      },
      "source": [
        "Данные взяты на ресурсе \" РОССТАТ\""
      ]
    },
    {
      "cell_type": "markdown",
      "metadata": {
        "id": "iRLVCeFyBLC0"
      },
      "source": [
        "Nominal_income - Номинальный доход на душу населения."
      ]
    },
    {
      "cell_type": "code",
      "execution_count": null,
      "metadata": {
        "id": "WcphkZrJIVo1"
      },
      "outputs": [],
      "source": [
        "df_0= pd.read_excel('/content/data/Urov_10subg-nm.xlsx') # Читаем датафрейм и переименовываем признаки за 2022 год\n",
        "df_0 = df_0.rename(columns = {'Среднедушевые денежные доходы населения по субъектам \\nРоссийской федерации, руб./месяц *': 'region', 'Unnamed: 50':'nominal_income'})\n",
        "df_0 = df_0[['region', 'nominal_income']]\n",
        "df_0 = get_data(df_0)\n",
        "total_df = df_0"
      ]
    },
    {
      "cell_type": "markdown",
      "metadata": {
        "id": "vw_v91viJd-h"
      },
      "source": [
        "#1.1  Реальные денежные доходы населения по субъектам Российской федерации,%"
      ]
    },
    {
      "cell_type": "markdown",
      "metadata": {
        "id": "NYDmWfRlKE_-"
      },
      "source": [
        "Данные взяты на ресурсе \" РОССТАТ\""
      ]
    },
    {
      "cell_type": "markdown",
      "metadata": {
        "id": "EenXAThoKGZ1"
      },
      "source": [
        "real_income - реальные денежные доходы населения по субъектам РФ"
      ]
    },
    {
      "cell_type": "code",
      "execution_count": null,
      "metadata": {
        "id": "m86MTm9JJA22"
      },
      "outputs": [],
      "source": [
        "df_1 = pd.read_excel('/content/data/Urov_11subg-nm.xlsx')\n",
        "df_1 = df_1.rename(columns = {'Unnamed: 45': 'real_income'})\n",
        "df_1 = df_1[['region', 'real_income']]\n",
        "df_1 = get_data(df_1)\n",
        "total_df = total_df.merge(df_1, on = 'region', how = 'left')"
      ]
    },
    {
      "cell_type": "markdown",
      "metadata": {
        "id": "wnHV7G48WzR_"
      },
      "source": [
        "##1.2 Среднемесячная номинальная начисленная заработная плата работников по полному кругу организаций по субъектам Российской Федерации за 12 месяцев 2022 года, рублей"
      ]
    },
    {
      "cell_type": "markdown",
      "metadata": {
        "id": "s-hJBlGiY_6I"
      },
      "source": [
        "Данные взяты на ресурсе \" РОССТАТ\""
      ]
    },
    {
      "cell_type": "markdown",
      "metadata": {
        "id": "oUWoXocBZQYV"
      },
      "source": [
        "avg_salary - Среднемесячная номинальная начисленная заработная плата работников по полному кругу организаций по субъектам Российской Федерации с 2019 года, рублей'"
      ]
    },
    {
      "cell_type": "code",
      "execution_count": null,
      "metadata": {
        "id": "aerx0DpeJxkG"
      },
      "outputs": [],
      "source": [
        "df_2 = pd.read_excel('/content/data/tab2-zpl_07-2023.xlsx')\n",
        "df_2 = df_2[df_2['region'].isin (double_region) == False] # Удаляем строки с Архангельской и Тюменской областями, которые вместе с округами\n",
        "df_2.drop(df_2.iloc [:, 1:36], axis =1, inplace =True) # Оставляем признаки за 12 месяцев 2022 года.\n",
        "df_2.drop(df_2.iloc[:, 13:26], axis = 1, inplace =True) # Удаляем признаки с данными за часть 2023 года.\n",
        "df_2 = get_data(df_2)\n",
        "df_2['avg_salary'] = round(df_2.iloc[:, 1:12].mean(axis =1)) # Находим среднюю зарплату по году.\n",
        "df_2 = df_2[['region', 'avg_salary']]\n",
        "total_df = total_df.merge(df_2, on = 'region', how ='left')"
      ]
    },
    {
      "cell_type": "markdown",
      "metadata": {
        "id": "AzmQPmnVZ44U"
      },
      "source": [
        "#1.3 Реальная начисленная заработная плата работников по полному кругу организаций по субъектам Российской Федерации за 12 месяцев 2022 года, %"
      ]
    },
    {
      "cell_type": "markdown",
      "metadata": {
        "id": "5nQTXNP0amO9"
      },
      "source": [
        "Данные взяты на ресурсе \" РОССТАТ\""
      ]
    },
    {
      "cell_type": "markdown",
      "metadata": {
        "id": "rm1iBr0TangC"
      },
      "source": [
        "real_avg_salary - Реальная начисленная заработная плата работников по полному кругу организаций по субъектам Российской Федерации за 12 месяцев 2022 года, %"
      ]
    },
    {
      "cell_type": "code",
      "execution_count": null,
      "metadata": {
        "id": "EKKBuyZ5K4Sv"
      },
      "outputs": [],
      "source": [
        "df_3 = pd.read_excel('/content/data/tab5-zpl_2022.xlsx')\n",
        "df_3 = df_3[['region', 'Unnamed: 5']].rename(columns= {'Unnamed: 5': 'real_avg_salary'})\n",
        "df_3 = get_data(df_3)\n",
        "total_df = total_df.merge(df_3, on = 'region', how ='left')"
      ]
    },
    {
      "cell_type": "markdown",
      "metadata": {
        "id": "mjf0E7oP7dHc"
      },
      "source": [
        "#1.4 Детская смертность по субъектам РФ"
      ]
    },
    {
      "cell_type": "markdown",
      "metadata": {
        "id": "_49PLGkQqinC"
      },
      "source": [
        "Данные взяты на ресурсе \" РОССТАТ\"."
      ]
    },
    {
      "cell_type": "markdown",
      "metadata": {
        "id": "PCJFpsWl76mw"
      },
      "source": [
        "infant_moratality - Число детей, умерших в возрасте до 1 года"
      ]
    },
    {
      "cell_type": "markdown",
      "metadata": {
        "id": "42_sCGGOC5jq"
      },
      "source": [
        "infant_mortality_per_1000 - Число детей, умерших в возрасте до 1 года на 1000 родившихся."
      ]
    },
    {
      "cell_type": "code",
      "execution_count": null,
      "metadata": {
        "id": "BSZWgyyALxoH"
      },
      "outputs": [],
      "source": [
        "df_4 = pd.read_excel('/content/data/Edn_06-2023_t2.xlsx')\n",
        "df_4 = df_4.rename(columns= {'Unnamed: 2': 'infant_mortality', 'Unnamed: 6': 'infant_mortality_per_1000'})\n",
        "df_4 = df_4[['region', 'infant_mortality', 'infant_mortality_per_1000']]\n",
        "df_4['region'] = df_4['region'].replace({'Hижегородская область': 'Нижегородская область', 'Hенецкий авт.округ': 'Ненецкий авт.округ'})\n",
        "df_4 = get_data(df_4)\n",
        "total_df = total_df.merge(df_4, on = 'region', how ='left')"
      ]
    },
    {
      "cell_type": "markdown",
      "metadata": {
        "id": "fN4lfaJpmr4B"
      },
      "source": [
        "#1.5 Число людей с инвалидностью\n",
        "#по регионам, без учета детей-инвалидов на 01.01.2023 год."
      ]
    },
    {
      "cell_type": "markdown",
      "metadata": {
        "id": "bINDkF346Y3C"
      },
      "source": [
        "Данные взяты на ресурсе \" РОССТАТ\""
      ]
    },
    {
      "cell_type": "markdown",
      "metadata": {
        "id": "3QnfmbdFmr2h"
      },
      "source": [
        "disabled - Число людей с инвалидностью\n",
        "по регионам, без учета детей-инвалидов"
      ]
    },
    {
      "cell_type": "code",
      "execution_count": null,
      "metadata": {
        "id": "cDVkCAAkOcBA"
      },
      "outputs": [],
      "source": [
        "df_5 = pd.read_excel('/content/data/pi_1.3.xlsx')\n",
        "df_5 = df_5.rename(columns = {'Unnamed: 2': 'disabled'})\n",
        "df_5 = df_5[['region', 'disabled']]\n",
        "df_5 =get_data(df_5)\n",
        "total_df = total_df.merge(df_5, on = 'region', how ='left')"
      ]
    },
    {
      "cell_type": "markdown",
      "metadata": {
        "id": "to0lDHG7DwBC"
      },
      "source": [
        "#1.6  Заболеваемость на 100 тыс.\n",
        "#человек населения, по возрастным группам и группам заболеваний"
      ]
    },
    {
      "cell_type": "markdown",
      "metadata": {
        "id": "GIt8PSwuT-uT"
      },
      "source": [
        "child_pregnancy - Детская беременность."
      ]
    },
    {
      "cell_type": "markdown",
      "metadata": {
        "id": "5IgmwqxYUfEn"
      },
      "source": [
        "congenital_anomalies - Врожденные аномалии (пороки развития), деформации и хромосомные нарушения."
      ]
    },
    {
      "cell_type": "markdown",
      "metadata": {
        "id": "FfveABjVU0MO"
      },
      "source": [
        "all_deseases - Все заболевания.\n",
        "\n"
      ]
    },
    {
      "cell_type": "markdown",
      "metadata": {
        "id": "3kgMT4KhVGun"
      },
      "source": [
        "neoplasms -Новообразования."
      ]
    },
    {
      "cell_type": "markdown",
      "metadata": {
        "id": "bzkkACRdVdjw"
      },
      "source": [
        "mental_disorders -Психические расстройства и расстройства поведения."
      ]
    },
    {
      "cell_type": "code",
      "execution_count": null,
      "metadata": {
        "id": "s2CNcpMeQ9Ic"
      },
      "outputs": [],
      "source": [
        "df_6 = pd.read_excel('/content/data/morbidity_2005_2020_age_disease.xls')\n",
        "df_6 = df_6.rename(columns = {'Заболеваемость с диагнозом, установленным впервые в жизни, проживающих в районе обслуживания лечебного учреждения, на 100 тыс.человек населения (человек, на 1 января)':'region', 'Unnamed: 1': 'ind',\t'Unnamed: 14': '2016'})\n",
        "df_pregnans = df_6[(df_6['ind'] == 'Беременность, роды и послеродовой период') & (df_6['Unnamed: 2'] == '0-14 лет')] # Оставляем только детскую беременность\n",
        "df_pregnans = df_pregnans[['region', 'ind', '2016']]\n",
        "df_pregnans = get_data(df_pregnans)\n",
        "df_pregnans = df_pregnans.pivot_table(values = '2016', index = 'region', columns = 'ind')\n",
        "df_pregnans = df_pregnans.reset_index()\n",
        "\n",
        "df_6 = df_6[df_6['Unnamed: 2'] == 'Всего']\n",
        "df_6 = df_6[['region', 'ind', '2016']]\n",
        "df_6 = df_6.pivot_table(values = '2016', index = 'region', columns = 'ind')\n",
        "df_6 = df_6.reset_index()\n",
        "df_6 = get_data(df_6)\n",
        "df_6 = df_6.sort_values('region').drop(['Беременность, роды и послеродовой период'], axis =1).reset_index(drop =True)\n",
        "df_6 = df_pregnans.merge(df_6, on = 'region', how = 'inner')\n",
        "df_6 = df_6.rename(columns ={'Беременность, роды и послеродовой период': 'child_pregnancy',\n",
        "                             'Врожденные аномалии (пороки развития), деформации и хромосомные нарушения': 'congenital_anomalies',\n",
        "                             'Все заболевания': 'all_deseases',\n",
        "                             'Новообразования': 'neoplasms',\n",
        "                             'Психические расстройства и расстройства поведения': 'mental_disorders'})\n",
        "df_6 = df_6[['region', 'child_pregnancy', 'congenital_anomalies', 'neoplasms', 'mental_disorders', 'all_deseases']]\n",
        "total_df = total_df.merge(df_6, on = 'region', how ='left')"
      ]
    },
    {
      "cell_type": "markdown",
      "metadata": {
        "id": "rPF9UEuwbjvO"
      },
      "source": [
        "#1.7 Процент населения с доходами ниже прожиточного минимуиа( черта бедности) по субъектам РФ, %\n"
      ]
    },
    {
      "cell_type": "markdown",
      "metadata": {
        "id": "t-TuCv2l6eMv"
      },
      "source": [
        "Данные взяты на ресурсе \" РОССТАТ\""
      ]
    },
    {
      "cell_type": "markdown",
      "metadata": {
        "id": "CssHggr4btKY"
      },
      "source": [
        "percent_poverty - Процент населения с доходами ниже прожиточного минимуиа( черта бедности) по субъектам РФ, %"
      ]
    },
    {
      "cell_type": "code",
      "execution_count": null,
      "metadata": {
        "id": "nnFRuz-VRbjt"
      },
      "outputs": [],
      "source": [
        "df_7 = pd.read_excel('/content/data/tab2-6.xlsx')\n",
        "df_7['percent_poverty'] = df_7['Unnamed: 2'] + df_7['Unnamed: 3']\n",
        "df_7 = df_7[['region', 'percent_poverty']]\n",
        "df_7 = get_data(df_7)\n",
        "total_df = total_df.merge(df_7, on = 'region', how ='left')"
      ]
    },
    {
      "cell_type": "markdown",
      "metadata": {
        "id": "BYwx_w8qNJJY"
      },
      "source": [
        "#1.8 ОБЩАЯ ЧИСЛЕННОСТЬ НАСЕЛЕНИЯ ПО ОСНОВНЫМ ВОЗРАСТНЫМ ГРУППАМ\n",
        "#ПО СУБЪЕКТАМ РОССИЙСКОЙ ФЕДЕРАЦИИ\n",
        "#в среднем за 2022 г."
      ]
    },
    {
      "cell_type": "markdown",
      "metadata": {
        "id": "UL9DQKRT6f_1"
      },
      "source": [
        "Данные взяты на ресурсе \" РОССТАТ\""
      ]
    },
    {
      "cell_type": "markdown",
      "metadata": {
        "id": "89I2TK27NgxV"
      },
      "source": [
        "population - все наседение\n"
      ]
    },
    {
      "cell_type": "markdown",
      "metadata": {
        "id": "OQW9ub7pN_ZR"
      },
      "source": [
        "population_childs - население модоже трудоспособного возраста\n"
      ]
    },
    {
      "cell_type": "markdown",
      "metadata": {
        "id": "qqORiBx_OCWu"
      },
      "source": [
        "population_employmens - трудоспособное население"
      ]
    },
    {
      "cell_type": "markdown",
      "metadata": {
        "id": "axpBHtJVbBKc"
      },
      "source": [
        "population_retired - население старше трудоспособного возраста"
      ]
    },
    {
      "cell_type": "code",
      "execution_count": null,
      "metadata": {
        "id": "P2yD2R03X-t1"
      },
      "outputs": [],
      "source": [
        "df_8 = pd.read_excel('/content/data/Население  по регионам РФ по возрастам 2022.xlsx')\n",
        "df_8 = df_8.rename(columns = {'Unnamed: 1': 'population', 'Unnamed: 4': 'population_childs', 'Unnamed: 7': 'population_employmens', 'Unnamed: 10': 'population_retired'})\n",
        "df_8 = df_8[['region', 'population', 'population_childs', 'population_employmens', 'population_retired']]\n",
        "df_8 = get_data(df_8)\n",
        "total_df = total_df.merge(df_8, on = 'region', how ='left')"
      ]
    },
    {
      "cell_type": "markdown",
      "metadata": {
        "id": "33w657_YRGua"
      },
      "source": [
        "#1.9 Xарактеристика жилищных условий домохозяйств за 2022 год.\n"
      ]
    },
    {
      "cell_type": "markdown",
      "metadata": {
        "id": "uO9tUKQL6ix9"
      },
      "source": [
        "Данные взяты на ресурсе \" РОССТАТ\""
      ]
    },
    {
      "cell_type": "markdown",
      "metadata": {
        "id": "SP07k0mUWfcP"
      },
      "source": [
        "total_living_square_one_persone - Общая площадь жилых помещений, приходящаяся в среднем на одного жителя, м2"
      ]
    },
    {
      "cell_type": "code",
      "execution_count": null,
      "metadata": {
        "id": "4T3QoK5ibirC"
      },
      "outputs": [],
      "source": [
        "df_9 = pd.read_excel('/content/data/jil_fond_2020-2022.xls')\n",
        "df_9 = df_9.rename(columns = {'Unnamed: 4': 'total_living_square_one_persone'})\n",
        "df_9 = df_9[['region', 'total_living_square_one_persone']]\n",
        "df_9 = get_data(df_9)\n",
        "total_df = total_df.merge(df_9, on = 'region', how ='left')"
      ]
    },
    {
      "cell_type": "markdown",
      "metadata": {
        "id": "f4PMp6Fv0JqJ"
      },
      "source": [
        "#1.10 Дети"
      ]
    },
    {
      "cell_type": "markdown",
      "metadata": {
        "id": "r0TxRqoW1fz8"
      },
      "source": [
        "Данные взяты с портала \"Если быть точным\"."
      ]
    },
    {
      "cell_type": "markdown",
      "metadata": {
        "id": "mzC4hUoN0k1s"
      },
      "source": [
        "poor_family - Малоимущие семьи с детьми, %"
      ]
    },
    {
      "cell_type": "markdown",
      "metadata": {
        "id": "F8-7FWwe0pFN"
      },
      "source": [
        "disabled_children - Дети с инвалидностью, %"
      ]
    },
    {
      "cell_type": "markdown",
      "metadata": {
        "id": "CToBv8xq0xK5"
      },
      "source": [
        "orphans - Дети, родители к-рых лишены / ограничены в родительских правах, чел/10000"
      ]
    },
    {
      "cell_type": "code",
      "execution_count": null,
      "metadata": {
        "id": "wmc3_9Vxz0VJ"
      },
      "outputs": [],
      "source": [
        "df_10 = pd.read_excel('/content/data/report_childhood_2020.xlsx')\n",
        "df_10 = df_10.rename(columns = {'Unnamed: 1': 'region','Unnamed: 2': 'poor_family', 'Unnamed: 3': 'disabled_children', 'Unnamed: 4': 'orphans'})\n",
        "df_10 = df_10[['region', 'poor_family', 'disabled_children', 'orphans']]\n",
        "df_10 = get_data(df_10)\n",
        "total_df = total_df.merge(df_10, on = 'region', how ='left')"
      ]
    },
    {
      "cell_type": "markdown",
      "metadata": {
        "id": "Z6cwkfCSbvuB"
      },
      "source": [
        "#1.11 Предоставление гражданам жилых помещений по субъектам Российской Федерации за 2022 г."
      ]
    },
    {
      "cell_type": "markdown",
      "metadata": {
        "id": "4CZ8nSVk6mwc"
      },
      "source": [
        "Данные взяты на ресурсе \" РОССТАТ\""
      ]
    },
    {
      "cell_type": "markdown",
      "metadata": {
        "id": "KR6LTOM4cS0e"
      },
      "source": [
        "family_need_housing - Число семей, состоящих на учете в качестве нуждающихся в жилых помещениях на конец отчетного года , единиц"
      ]
    },
    {
      "cell_type": "markdown",
      "metadata": {
        "id": "L2FALQBscgnL"
      },
      "source": [
        "family_got_housing - Число семей получивших жилые помещения и улучшивших жилищные условия, единиц"
      ]
    },
    {
      "cell_type": "markdown",
      "metadata": {
        "id": "Z46aIYb8cp3v"
      },
      "source": [
        "specific_gravity_family - Удельный вес числа семей, получивших жилые помещения, в числе семей, состоящих на учете в качестве нуждающихся в жилых помещениях на конец прошлого года, в %"
      ]
    },
    {
      "cell_type": "code",
      "execution_count": null,
      "metadata": {
        "id": "WEMbXz5UefhI"
      },
      "outputs": [],
      "source": [
        "df_11 = pd.read_excel('/content/data/Pred_jilpom_2020-2022.xls')\n",
        "df_11 = df_11.rename(columns = {'Unnamed: 2': 'family_need_housing', 'Unnamed: 3': 'family_got_housing', 'Unnamed: 4': 'specific_gravity_family'})\n",
        "df_11 = df_11.drop('Unnamed: 1', axis =1)\n",
        "df_11 = get_data(df_11)\n",
        "total_df = total_df.merge(df_11, on = 'region', how ='left')"
      ]
    },
    {
      "cell_type": "markdown",
      "metadata": {
        "id": "D3-zj1V7gJdh"
      },
      "source": [
        "#1.12 Количество семей, получивших жилое помещение по договорам социального найма в 2022 году, тыс. семей"
      ]
    },
    {
      "cell_type": "markdown",
      "metadata": {
        "id": "cyixmz-V6och"
      },
      "source": [
        "Данные взяты на ресурсе \" РОССТАТ\""
      ]
    },
    {
      "cell_type": "markdown",
      "metadata": {
        "id": "i9fvKHaXgQmf"
      },
      "source": [
        "social_housing_hiring - Количество семей, получивших жилое помещение по договорам социального найма, тыс. семей"
      ]
    },
    {
      "cell_type": "code",
      "execution_count": null,
      "metadata": {
        "id": "k4-mnuVse_o1"
      },
      "outputs": [],
      "source": [
        "df_12 = pd.read_excel('/content/data/pred_jilpom_socnaym_08-2023.xlsx')\n",
        "df_12 = df_12.rename(columns = {'Unnamed: 23': 'social_housing_hiring'})\n",
        "df_12 = df_12[['region', 'social_housing_hiring']]\n",
        "df_12 = get_data(df_12)\n",
        "total_df = total_df.merge(df_12, on = 'region', how ='left')"
      ]
    },
    {
      "cell_type": "markdown",
      "metadata": {
        "id": "k3VaxsfvmLEc"
      },
      "source": [
        "#1.13  Сведения о заболеваемости ВИЧ, на 10\n",
        "#тыс. обследованных за 2022 год."
      ]
    },
    {
      "cell_type": "markdown",
      "metadata": {
        "id": "Sz8E7j6S5-iX"
      },
      "source": [
        "Данные взяты с портала \"Если быть точным\"."
      ]
    },
    {
      "cell_type": "markdown",
      "metadata": {
        "id": "MJTPBhuRvA08"
      },
      "source": [
        "hiv_patient - Выявлено на 10 тыс. обследованных"
      ]
    },
    {
      "cell_type": "code",
      "execution_count": null,
      "metadata": {
        "id": "pwT9zO25fNED"
      },
      "outputs": [],
      "source": [
        "df_13 = pd.read_excel('/content/data/report_hiv_2022.xlsx')\n",
        "df_13 = df_13.rename(columns = {'Unnamed: 1': 'region', 'Unnamed: 3': 'hiv_patient'})\n",
        "df_13 = df_13[['region', 'hiv_patient']]\n",
        "df_13 =get_data(df_13)\n",
        "total_df = total_df.merge(df_13, on = 'region', how ='left')"
      ]
    },
    {
      "cell_type": "markdown",
      "metadata": {
        "id": "kdQuuRb10SFU"
      },
      "source": [
        "#1.14 Алкоголизм и наркомания данные за 2019 год."
      ]
    },
    {
      "cell_type": "markdown",
      "metadata": {
        "id": "NHYAEVbl6KWG"
      },
      "source": [
        "Данные взяты с портала \"Если быть точным\"."
      ]
    },
    {
      "cell_type": "markdown",
      "metadata": {
        "id": "AWEqaFoX1_gX"
      },
      "source": [
        "alcohol_consumption - Потребление алкоголя на 1 человека 15+, литр/душу"
      ]
    },
    {
      "cell_type": "markdown",
      "metadata": {
        "id": "p48tJ-qD2yRI"
      },
      "source": [
        "drug_addiction - Общая заболеваемость (наркотики), на 100 тыс. населения."
      ]
    },
    {
      "cell_type": "code",
      "execution_count": null,
      "metadata": {
        "id": "daLAERyCf0-N"
      },
      "outputs": [],
      "source": [
        "df_14 = pd.read_excel('/content/data/report_alkogolizm_i_narkomaniya_2019.xlsx')\n",
        "df_14 = df_14.rename(columns ={'Unnamed: 1': 'region', 'Unnamed: 2': 'alcohol_consumption', 'Unnamed: 4': 'drug_addiction'})\n",
        "df_14 = df_14[['region', 'alcohol_consumption', 'drug_addiction']]\n",
        "df_14 = get_data(df_14)\n",
        "total_df = total_df.merge(df_14, on = 'region', how ='left')"
      ]
    },
    {
      "cell_type": "markdown",
      "metadata": {
        "id": "AZ9bfx1u7ejF"
      },
      "source": [
        "#1.15  Рождённые в этом месяце, по регионам, без\n",
        "#учёта мертворождённых за 2022 год"
      ]
    },
    {
      "cell_type": "markdown",
      "metadata": {
        "id": "F2hO7YZ3LVps"
      },
      "source": [
        "count_newborn - количество новорожденных"
      ]
    },
    {
      "cell_type": "markdown",
      "metadata": {
        "id": "bYxyBdOPLoE4"
      },
      "source": [
        "count_newborn_per_1000 - количество новорожденных на 1000 населения."
      ]
    },
    {
      "cell_type": "code",
      "execution_count": null,
      "metadata": {
        "id": "z6cCic7egGqx"
      },
      "outputs": [],
      "source": [
        "df_15 = pd.read_excel('/content/data/EDN_2022.xlsx')\n",
        "df_15 = df_15.rename(columns ={'Unnamed: 1': 'count_newborn', 'Unnamed: 4': 'count_newborn_per_1000'})\n",
        "df_15 = df_15[['region', 'count_newborn', 'count_newborn_per_1000']]\n",
        "df_15 = get_data(df_15)\n",
        "total_df = total_df.merge(df_15, on = 'region', how ='left')"
      ]
    },
    {
      "cell_type": "markdown",
      "metadata": {
        "id": "tnRj5AZknpVp"
      },
      "source": [
        "#1.16 Распределение малоимущего населения по социально-демографическим группам за 2020 год, %"
      ]
    },
    {
      "cell_type": "markdown",
      "metadata": {
        "id": "VUieUM40nv3o"
      },
      "source": [
        "childrens  - Дети в возрасте до 16 лет"
      ]
    },
    {
      "cell_type": "markdown",
      "metadata": {
        "id": "PE2BKHUboGpF"
      },
      "source": [
        "pensioners - Население старше трудоспособного возраста\n"
      ]
    },
    {
      "cell_type": "markdown",
      "metadata": {
        "id": "oUhWf9RmoR2M"
      },
      "source": [
        "employmens - Население трудоспособного возраста"
      ]
    },
    {
      "cell_type": "code",
      "execution_count": null,
      "metadata": {
        "id": "cBiej6brhoLB"
      },
      "outputs": [],
      "source": [
        "df_2020 = pd.read_excel('/content/data/poverty_socdem_2020.xls') # Прочитаем представленные данные\n",
        "df_2019 = pd.read_excel('/content/data/poverty_socdem_2019.xls')\n",
        "df_2018 = pd.read_excel('/content/data/poverty_socdem_2018.xls')\n",
        "df_2017 = pd.read_excel('/content/data/poverty_socdem_2017.xls')"
      ]
    },
    {
      "cell_type": "code",
      "execution_count": null,
      "metadata": {
        "id": "NGuZhGLKx7_9"
      },
      "outputs": [],
      "source": [
        "def rename_columns(df): # Функция для переименования признаков и удаления ненужных.\n",
        "  df = df.rename(columns = {'Unnamed: 2': 'childrens', 'Unnamed: 3': 'pensioners', 'Unnamed: 4': 'employmens'})\n",
        "  df = df[['region', 'childrens', 'pensioners', 'employmens']]\n",
        "  return df"
      ]
    },
    {
      "cell_type": "code",
      "execution_count": null,
      "metadata": {
        "id": "QWA9Ri4DrjW5"
      },
      "outputs": [],
      "source": [
        "df_2020 = rename_columns(df_2020)\n",
        "df_2019 = rename_columns(df_2019)\n",
        "df_2018 = rename_columns(df_2018)\n",
        "df_2017 = rename_columns(df_2017)\n",
        "df_16 = df_2020"
      ]
    },
    {
      "cell_type": "code",
      "execution_count": null,
      "metadata": {
        "colab": {
          "base_uri": "https://localhost:8080/"
        },
        "id": "J686gS9W0yU5",
        "outputId": "1f477edf-a6f4-488b-a3ee-467b909eb6aa"
      },
      "outputs": [
        {
          "output_type": "execute_result",
          "data": {
            "text/plain": [
              "region         2\n",
              "childrens     13\n",
              "pensioners    13\n",
              "employmens    13\n",
              "dtype: int64"
            ]
          },
          "metadata": {},
          "execution_count": 26
        }
      ],
      "source": [
        "df_16.isnull().sum() # Проверяем количество нулевых значений"
      ]
    },
    {
      "cell_type": "code",
      "execution_count": null,
      "metadata": {
        "colab": {
          "base_uri": "https://localhost:8080/"
        },
        "id": "AbCRO-3_mwQU",
        "outputId": "0ca701ec-7426-4a08-a062-bd0600216fc7"
      },
      "outputs": [
        {
          "output_type": "execute_result",
          "data": {
            "text/plain": [
              "region        2\n",
              "childrens     1\n",
              "pensioners    1\n",
              "employmens    1\n",
              "dtype: int64"
            ]
          },
          "metadata": {},
          "execution_count": 27
        }
      ],
      "source": [
        "df_16 = df_16[(df_16[['childrens', 'pensioners', 'employmens']].isna().all(axis=1))] = df_2019 # Берем недостающие данные из датасета за 2019 год.\n",
        "df_16.isnull().sum()\n"
      ]
    },
    {
      "cell_type": "code",
      "execution_count": null,
      "metadata": {
        "id": "11KI0s5-v42m"
      },
      "outputs": [],
      "source": [
        "df_16 = get_data(df_16)\n",
        "total_df = total_df.merge(df_16, on = 'region', how ='left')"
      ]
    },
    {
      "cell_type": "markdown",
      "metadata": {
        "id": "nD49EMlbdVap"
      },
      "source": [
        "#1.17 Отношение числа занятых в экономике региона к численности населения регтона в трудоспособном возрасте, %"
      ]
    },
    {
      "cell_type": "markdown",
      "metadata": {
        "id": "hUDhzE3D6mlD"
      },
      "source": [
        "Данные взяты на ресурсе \" РОССТАТ\""
      ]
    },
    {
      "cell_type": "markdown",
      "metadata": {
        "id": "oV8r0X251U5p"
      },
      "source": [
        "percrnt_employmens -  Отношение числа занятых в экономике региона к численности\n",
        "населения региона в трудоспособном возрасте, %,"
      ]
    },
    {
      "cell_type": "markdown",
      "metadata": {
        "id": "C8mY_WoK7yFN"
      },
      "source": [
        "data_1 - Численность населения в трудоспособном возрасте по регионам РФ за 2022 год."
      ]
    },
    {
      "cell_type": "markdown",
      "metadata": {
        "id": "UtuAwCWLkBBu"
      },
      "source": [
        "data_2 - Численность занятых в экономике по регионам РФ за 2022 год."
      ]
    },
    {
      "cell_type": "code",
      "execution_count": null,
      "metadata": {
        "id": "me6lfFmhg9l8"
      },
      "outputs": [],
      "source": [
        "data_1 = pd.read_excel('/content/data/Бюллетень_2023.xlsx')\n",
        "data_1 = data_1[['region', 'Unnamed: 3']]\n",
        "data_1 = get_data(data_1)\n",
        "data_2 = pd.read_excel('/content/data/Trud-2_15-72.xlsx')\n",
        "data_2 = data_2[['region', 'Unnamed: 23']]\n",
        "data_2 = get_data(data_2)\n",
        "df_17 = data_1.merge(data_2, on = 'region', how = 'inner')\n",
        "df_17['percent_employmens'] = df_17['Unnamed: 23'] / df_17['Unnamed: 3'] * 100\n",
        "df_17['percent_employmens'] = df_17['percent_employmens'].apply(lambda x: round(x))\n",
        "df_17 = df_17[['region', 'percent_employmens']]\n",
        "total_df = total_df.merge(df_17, on = 'region', how ='left')"
      ]
    },
    {
      "cell_type": "markdown",
      "metadata": {
        "id": "K4BrvriAel13"
      },
      "source": [
        "#1.18 Валовый региональный продукт на душу населения за 2020 год, в рублях."
      ]
    },
    {
      "cell_type": "markdown",
      "metadata": {
        "id": "YkdUJK4pkJr5"
      },
      "source": [
        "Данные взяты на ресурсе \" РОССТАТ\""
      ]
    },
    {
      "cell_type": "markdown",
      "metadata": {
        "id": "U7_3RaDCe61X"
      },
      "source": [
        "gross_regional_product - Валовый региональный продукт на душу населения за 2020 год, в рублях."
      ]
    },
    {
      "cell_type": "code",
      "execution_count": null,
      "metadata": {
        "id": "usSwTiEIfPTh"
      },
      "outputs": [],
      "source": [
        "df_18 = pd.read_excel('/content/data/RR_pokaz_09-02_2022.xlsx')\n",
        "df_18 = df_18.rename(columns ={'Unnamed: 6': 'gross_regional_product'})\n",
        "df_18 = df_18[['region', 'gross_regional_product']]\n",
        "df_18 = get_data(df_18)\n",
        "total_df = total_df.merge(df_18, on = 'region', how ='left')"
      ]
    },
    {
      "cell_type": "markdown",
      "metadata": {
        "id": "GRgkELg0guj2"
      },
      "source": [
        "#1.19 Объем отгруженных товаров собственного производства, выполненных работ и услуг собственными силами по субъектам Российской Федерации за 2022 год.\n",
        " (млн.руб.)"
      ]
    },
    {
      "cell_type": "markdown",
      "metadata": {
        "id": "S9ueW6H8kLOc"
      },
      "source": [
        "Данные взяты на ресурсе \" РОССТАТ\""
      ]
    },
    {
      "cell_type": "markdown",
      "metadata": {
        "id": "v_yUehpctBHa"
      },
      "source": [
        "regional_product -  объём отгруженных товаров\n",
        "собственного производства или работ/услуг, выполненных\n",
        "собственными силами, за 2022 г. в тыс. рублей."
      ]
    },
    {
      "cell_type": "code",
      "execution_count": null,
      "metadata": {
        "id": "TGG6ZwVHmHKH"
      },
      "outputs": [],
      "source": [
        "sheet = pd.read_excel('/content/data/otgruz_sub_god (1).xlsx')\n",
        "sheet_1 = pd.read_excel('/content/data/otgruz_sub_god (1).xlsx', sheet_name= 1)\n",
        "sheet_2 = pd.read_excel('/content/data/otgruz_sub_god (1).xlsx', sheet_name= 2)\n",
        "sheet_3 = pd.read_excel('/content/data/otgruz_sub_god (1).xlsx', sheet_name= 3)\n",
        "sheet_4 = pd.read_excel('/content/data/otgruz_sub_god (1).xlsx', sheet_name= 4)"
      ]
    },
    {
      "cell_type": "code",
      "execution_count": null,
      "metadata": {
        "id": "OsqyZ-qFm-p8"
      },
      "outputs": [],
      "source": [
        "def get_product_set(df):\n",
        "  df = df.rename(columns = {'К содержанию': 'region'})\n",
        "  df = df[['region', 'Unnamed: 6']]\n",
        "  df = get_data(df)\n",
        "  return df"
      ]
    },
    {
      "cell_type": "code",
      "execution_count": null,
      "metadata": {
        "id": "LEZg3K-kokTU"
      },
      "outputs": [],
      "source": [
        "sheet = get_product_set(sheet)\n",
        "sheet_1 = get_product_set(sheet_1)\n",
        "sheet_2 = get_product_set(sheet_2)\n",
        "sheet_3 = get_product_set(sheet_3)\n",
        "sheet_4 = get_product_set(sheet_4)"
      ]
    },
    {
      "cell_type": "code",
      "execution_count": null,
      "metadata": {
        "id": "d0L8KilIr79p"
      },
      "outputs": [],
      "source": [
        "df_19 = sheet.merge(sheet_1, on = 'region').merge(sheet_2, on = 'region').merge(sheet_3, on = 'region').merge(sheet_4, on = 'region')\n",
        "df_19['regional_product'] = df_19.iloc[:, 1:6].sum(axis =1)\n",
        "df_19 = df_19[['region', 'regional_product']]\n",
        "total_df = total_df.merge(df_19, on = 'region', how ='left')"
      ]
    },
    {
      "cell_type": "markdown",
      "metadata": {
        "id": "EPa0rRVry5Op"
      },
      "source": [
        "#1.20 Оборот розничной\n",
        "#торговли на душу населения за 2022 год, в рублях."
      ]
    },
    {
      "cell_type": "markdown",
      "metadata": {
        "id": "i_plb40i0JcJ"
      },
      "source": [
        "Данные взяты на ресурсе \" РОССТАТ\""
      ]
    },
    {
      "cell_type": "markdown",
      "metadata": {
        "id": "oDyFoV5Xz0OF"
      },
      "source": [
        "retail_turnover_per_capital - Оборот розничной торговли на душу населения, в рублях"
      ]
    },
    {
      "cell_type": "code",
      "execution_count": null,
      "metadata": {
        "id": "Od1l4Iff0VOw"
      },
      "outputs": [],
      "source": [
        "df_20 = pd.read_excel('/content/data/Oborot_dusha.xlsx')\n",
        "df_20 = df_20.rename(columns = {'Unnamed: 23': 'retail_turnover_per_capital'})\n",
        "df_20 = df_20[['region', 'retail_turnover_per_capital']]\n",
        "df_20 = get_data(df_20)\n",
        "total_df = total_df.merge(df_20, on = 'region', how ='left')"
      ]
    },
    {
      "cell_type": "markdown",
      "metadata": {
        "id": "4Ln0zZejxD6n"
      },
      "source": [
        "# Прожиточный минимум для трудоспособного населения за 2022 год."
      ]
    },
    {
      "cell_type": "markdown",
      "metadata": {
        "id": "ch9EPvsQxD5h"
      },
      "source": [
        "liwing_wage - прожиточный минимум."
      ]
    },
    {
      "cell_type": "code",
      "execution_count": null,
      "metadata": {
        "id": "xcjcrbCSwJkY"
      },
      "outputs": [],
      "source": [
        "df_21 = pd.read_excel('/content/data/прожиточный минимум.xlsx')\n",
        "df_21 = df_21.rename(columns = {'В том числе по социально-демографическим группам:': 'living_wage'})\n",
        "df_21 = df_21[['region', 'living_wage']]\n",
        "df_21 = get_data(df_21)\n",
        "total_df = total_df.merge(df_21, on = 'region', how = 'left')\n"
      ]
    },
    {
      "cell_type": "markdown",
      "metadata": {
        "id": "y1Xr1GGDz8SC"
      },
      "source": [
        "#1.22 Расходы на социальную политику от\n",
        "#общих расходов бюджета региона, % в год."
      ]
    },
    {
      "cell_type": "code",
      "execution_count": null,
      "metadata": {
        "id": "_DiH4vdC6F3j"
      },
      "outputs": [],
      "source": [
        "def get_data(df):\n",
        "  \"\"\" Функция для получения датасета \"\"\"\n",
        "  df = df.dropna(inplace = False).reset_index(drop = True) # Убираем значения nan\n",
        "  df['region'] = df['region'].apply(lambda x: x.strip()) # Убираем лишние пробелы\n",
        "  #df = df[df['region'].isin (double_region) == False ] # Убираем дублтрованные области\n",
        "  df['region'] = df['region'].apply(lambda x: x.lower()) # Переходим в нижний регистр\n",
        "  df['region'] = df['region'].apply(lambda x: re.sub(r\"\\(.*\\)\", \"\", x)) # Убираем то, что в скобках\n",
        "  df['region'] = df['region'].apply(get_region) # Запускаем функцию стандартных названий регионов\n",
        "  df = df.dropna(inplace = False).reset_index(drop = True) # Избавляемся от значений None\n",
        "  df = df.sort_values('region').reset_index(drop =True) # Сортируем по алфавиту датасет\n",
        "  return df"
      ]
    },
    {
      "cell_type": "markdown",
      "metadata": {
        "id": "cs5xdvKTL1Dq"
      },
      "source": [
        "Данные взяты с портала \"Если быть точным\"."
      ]
    },
    {
      "cell_type": "markdown",
      "metadata": {
        "id": "XADN_yAuJ1YA"
      },
      "source": [
        "welfare_expense_share - Расходы на социальную политику от\n",
        "общих расходов бюджета региона, % в год."
      ]
    },
    {
      "cell_type": "code",
      "execution_count": null,
      "metadata": {
        "id": "mQMMc5MQzmLb"
      },
      "outputs": [],
      "source": [
        "df_22 = pd.read_excel('/content/data/welfare_expense_share_2015_2020.xlsx')\n",
        "df_22 = df_22.rename(columns = {2020: 'welfare_expense_share'})\n",
        "df_22 = df_22[['region', 'welfare_expense_share']]\n",
        "df_22 = get_data(df_22)\n",
        "total_df = total_df.merge(df_22, on = 'region', how ='left')"
      ]
    },
    {
      "cell_type": "markdown",
      "metadata": {
        "id": "RRxoeMoDnWA_"
      },
      "source": [
        "#1.23 Преступность"
      ]
    },
    {
      "cell_type": "markdown",
      "metadata": {
        "id": "CUN8JI4MBchr"
      },
      "source": [
        "total_crime - Всего зарегистрированных преступлений."
      ]
    },
    {
      "cell_type": "markdown",
      "metadata": {
        "id": "YKm3iF4mBn68"
      },
      "source": [
        "especialy_serious_crime\t- Количество особо тяжких преступлений."
      ]
    },
    {
      "cell_type": "markdown",
      "metadata": {
        "id": "wF_GYxgJB7U_"
      },
      "source": [
        "serious_crime\t- Количество тяжких преступлений."
      ]
    },
    {
      "cell_type": "markdown",
      "metadata": {
        "id": "ScsbIO2lCEf6"
      },
      "source": [
        "crime_of_moderaty_severity- Количество преступлений средней тяжести."
      ]
    },
    {
      "cell_type": "markdown",
      "metadata": {
        "id": "1ktx8BHOCNgd"
      },
      "source": [
        "minor_crime - Количество преступлений небольшой тяжести."
      ]
    },
    {
      "cell_type": "code",
      "execution_count": null,
      "metadata": {
        "id": "tz0j_3OFIFWn"
      },
      "outputs": [],
      "source": [
        "def get_crime_set(df):\n",
        "  df = df.rename(columns = {'Unnamed: 1': 'region'})\n",
        "  df.drop('Unnamed: 0', axis = 1, inplace =True)\n",
        "  df = get_data(df)\n",
        "  df['total'] = df.iloc[:, 1:11].sum(axis =1).astype(int)\n",
        "  df = df[['region', 'total']]\n",
        "  return df"
      ]
    },
    {
      "cell_type": "code",
      "execution_count": null,
      "metadata": {
        "id": "yK9KQgIqLwqk"
      },
      "outputs": [],
      "source": [
        "sheet = pd.read_excel('/content/data/4-EGS_Razdel_4_122020.xls')\n",
        "sheet_1 = pd.read_excel('/content/data/4-EGS_Razdel_4_122020.xls', sheet_name= 1)\n",
        "sheet_2 = pd.read_excel('/content/data/4-EGS_Razdel_4_122020.xls', sheet_name= 2)\n",
        "sheet_3 = pd.read_excel('/content/data/4-EGS_Razdel_4_122020.xls', sheet_name= 3)\n",
        "sheet_4 = pd.read_excel('/content/data/4-EGS_Razdel_4_122020.xls', sheet_name= 4)\n"
      ]
    },
    {
      "cell_type": "code",
      "execution_count": null,
      "metadata": {
        "id": "Ge30PxBGKKQ5"
      },
      "outputs": [],
      "source": [
        "sheet = get_crime_set(sheet)\n",
        "sheet_1 = get_crime_set(sheet_1)\n",
        "sheet_2 = get_crime_set(sheet_2)\n",
        "sheet_3 = get_crime_set(sheet_3)\n",
        "sheet_4 = get_crime_set(sheet_4)"
      ]
    },
    {
      "cell_type": "code",
      "execution_count": null,
      "metadata": {
        "id": "ROo8tdWoKKPe"
      },
      "outputs": [],
      "source": [
        "sheet = sheet.rename(columns = {'total': 'total_crime'})\n",
        "sheet_1 = sheet_1.rename(columns = {'total': 'especialy_serious_crime'})\n",
        "sheet_2 = sheet_2.rename(columns = {'total': 'serious_crime'})\n",
        "sheet_3 = sheet_3.rename(columns = {'total': 'crime_of_moderaty_severity'})\n",
        "sheet_4 = sheet_4.rename(columns = {'total': 'minor_crime'})\n"
      ]
    },
    {
      "cell_type": "code",
      "execution_count": null,
      "metadata": {
        "id": "OgJiofU3GPXI"
      },
      "outputs": [],
      "source": [
        "df_23 = sheet.merge(sheet_1).merge(sheet_2).merge(sheet_3).merge(sheet_4)\n",
        "total_df = total_df.merge(df_23, on = 'region', how ='left')"
      ]
    },
    {
      "cell_type": "code",
      "execution_count": null,
      "metadata": {
        "id": "VNTsAjyjbjC8"
      },
      "outputs": [],
      "source": [
        "total_df.to_csv('/content/data/total_df.csv', index = False) # Запишем наш датасет в файл csv"
      ]
    },
    {
      "cell_type": "markdown",
      "metadata": {
        "id": "e0TdQanYQQ3B"
      },
      "source": [
        "#Вывод:\n",
        "Итак, мы получили таблицу даннх записанную в виде файла csv. Данные представляют из себя информацию по экономическим и демографическим показателям статистики преимуществено за 2022 год. В основном информация была взята на государственном ресурсе \"РОССТАТ\", также был использован источник \"Если быть точнм\"."
      ]
    }
  ],
  "metadata": {
    "colab": {
      "provenance": [],
      "authorship_tag": "ABX9TyNIAXw5YNDL38StCy3fwM7y",
      "include_colab_link": true
    },
    "kernelspec": {
      "display_name": "Python 3",
      "name": "python3"
    },
    "language_info": {
      "name": "python"
    }
  },
  "nbformat": 4,
  "nbformat_minor": 0
}