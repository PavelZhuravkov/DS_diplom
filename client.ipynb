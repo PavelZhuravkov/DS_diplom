{
  "nbformat": 4,
  "nbformat_minor": 0,
  "metadata": {
    "colab": {
      "provenance": [],
      "authorship_tag": "ABX9TyMNlAC3KFXppFWIo8FlyUeE",
      "include_colab_link": true
    },
    "kernelspec": {
      "name": "python3",
      "display_name": "Python 3"
    },
    "language_info": {
      "name": "python"
    }
  },
  "cells": [
    {
      "cell_type": "markdown",
      "metadata": {
        "id": "view-in-github",
        "colab_type": "text"
      },
      "source": [
        "<a href=\"https://colab.research.google.com/github/PavelZhuravkov/DS_diplom/blob/master/client.ipynb\" target=\"_parent\"><img src=\"https://colab.research.google.com/assets/colab-badge.svg\" alt=\"Open In Colab\"/></a>"
      ]
    },
    {
      "cell_type": "code",
      "source": [
        "import requests\n",
        "\n",
        "if __name__ == '__main__':\n",
        "\n",
        "    # выполняем POST-запрос на сервер по эндпоинту add с параметром json\n",
        "    r = requests.post('http://localhost:5000/plot', json={'feature': input('Введите любой признак из датасета :')})\n",
        "    # выводим статус запроса\n",
        "    print(r.status_code)\n",
        "    # реализуем обработку результата\n",
        "    if r.status_code == 200:\n",
        "        # если запрос выполнен успешно (код обработки=200),\n",
        "        # выводим результат на экран\n",
        "        print(r.json()['result'])\n",
        "    else:\n",
        "        # если запрос завершён с кодом, отличным от 200,\n",
        "        # выводим содержимое ответа\n",
        "        print(r.text)"
      ],
      "metadata": {
        "id": "cR2d124u3wfj"
      },
      "execution_count": null,
      "outputs": []
    }
  ]
}