{
  "nbformat": 4,
  "nbformat_minor": 0,
  "metadata": {
    "colab": {
      "provenance": [],
      "authorship_tag": "ABX9TyOXYzNJkTXxEP9uCmeW+sOn",
      "include_colab_link": true
    },
    "kernelspec": {
      "name": "python3",
      "display_name": "Python 3"
    },
    "language_info": {
      "name": "python"
    }
  },
  "cells": [
    {
      "cell_type": "markdown",
      "metadata": {
        "id": "view-in-github",
        "colab_type": "text"
      },
      "source": [
        "<a href=\"https://colab.research.google.com/github/PavelZhuravkov/DS_diplom/blob/master/Dockerfile.ipynb\" target=\"_parent\"><img src=\"https://colab.research.google.com/assets/colab-badge.svg\" alt=\"Open In Colab\"/></a>"
      ]
    },
    {
      "cell_type": "code",
      "execution_count": null,
      "metadata": {
        "id": "PLTFyAKbmWqo"
      },
      "outputs": [],
      "source": [
        "FROM tiangolo/uwsgi-nginx-flask:python3.11\n",
        "ENV NAME=\"Skillfactory\"\n",
        "WORKDIR /usr/src/app\n",
        "COPY ./src/ ./\n",
        "COPY ./requirements.txt ./\n",
        "COPY ./uwsgi.ini ./\n",
        "RUN pip install --no-cache-dir -r requirements.txt\n",
        "CMD [ \"python\", \"./server.py\" ]"
      ]
    }
  ]
}