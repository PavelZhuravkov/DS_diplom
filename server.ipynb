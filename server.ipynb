{
  "nbformat": 4,
  "nbformat_minor": 0,
  "metadata": {
    "colab": {
      "provenance": [],
      "authorship_tag": "ABX9TyONS0Y7J5Yb/jTlbMzjBEOz",
      "include_colab_link": true
    },
    "kernelspec": {
      "name": "python3",
      "display_name": "Python 3"
    },
    "language_info": {
      "name": "python"
    }
  },
  "cells": [
    {
      "cell_type": "markdown",
      "metadata": {
        "id": "view-in-github",
        "colab_type": "text"
      },
      "source": [
        "<a href=\"https://colab.research.google.com/github/PavelZhuravkov/DS_diplom/blob/master/server.ipynb\" target=\"_parent\"><img src=\"https://colab.research.google.com/assets/colab-badge.svg\" alt=\"Open In Colab\"/></a>"
      ]
    },
    {
      "cell_type": "code",
      "execution_count": null,
      "metadata": {
        "id": "CVHf155LrAb4"
      },
      "outputs": [],
      "source": [
        "from flask import Flask, request, jsonify\n",
        "import pickle\n",
        "import seaborn as sns\n",
        "import matplotlib.pyplot as plt\n",
        "\n",
        "app = Flask(__name__)\n",
        "\n",
        "# Производим десериализацию и извлекаем модель из файла формата pkl\n",
        "with open('my_data_short.pkl', 'rb') as pkl_file:\n",
        "    data_short = pickle.load(pkl_file)\n",
        "\n",
        "with open('my_data.pkl', 'rb') as pkl_file:\n",
        "    data = pickle.load(pkl_file)\n",
        "\n",
        "with open('my_pipeline.pkl', 'rb') as pkl_file:\n",
        "    my_pipeline = pickle.load(pkl_file)\n",
        "\n",
        "@app.route('/')\n",
        "def index():\n",
        "    msg = \"Test message. The server is running\"\n",
        "    return msg\n",
        "\n",
        "@app.route('/plot', methods = ['POST'])\n",
        "def plot():\n",
        "  feature = request.json.get('feature')\n",
        "  df = data.groupby('label')[feature].mean()\n",
        "  fig = plt.figure(figsize=(7, 6))\n",
        "  df.plot(\n",
        "    kind='bar',\n",
        "    grid=True,\n",
        "    figsize=(5, 4),\n",
        "    colormap='plasma',\n",
        "    title= f'График распределения признака {feature}',\n",
        "    rot=0,\n",
        "    xlabel=\"Кластеры\",\n",
        "    ylabel= f'Показатель {feature}'\n",
        "  );\n",
        "  plt.savefig('output\\plot.png')\n",
        "  plt.clf()\n",
        "\n",
        "  return jsonify({'result': 'Приложение выполнило задачу!'})\n",
        "\n",
        "\n",
        "if __name__ == '__main__':\n",
        "\n",
        "    app.run('localhost', 5000)"
      ]
    }
  ]
}